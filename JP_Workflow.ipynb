{
  "nbformat": 4,
  "nbformat_minor": 0,
  "metadata": {
    "colab": {
      "provenance": [],
      "authorship_tag": "ABX9TyP/AEmwL6eAE519158SbTnT",
      "include_colab_link": true
    },
    "kernelspec": {
      "name": "python3",
      "display_name": "Python 3"
    },
    "language_info": {
      "name": "python"
    }
  },
  "cells": [
    {
      "cell_type": "markdown",
      "metadata": {
        "id": "view-in-github",
        "colab_type": "text"
      },
      "source": [
        "<a href=\"https://colab.research.google.com/github/jchongshing/DataScienceOeson/blob/main/JP_Workflow.ipynb\" target=\"_parent\"><img src=\"https://colab.research.google.com/assets/colab-badge.svg\" alt=\"Open In Colab\"/></a>"
      ]
    },
    {
      "cell_type": "code",
      "execution_count": null,
      "metadata": {
        "colab": {
          "base_uri": "https://localhost:8080/"
        },
        "id": "VUvC5ro5l7vi",
        "outputId": "a2e27af3-7658-4feb-e785-8ceb2a78196b"
      },
      "outputs": [
        {
          "output_type": "stream",
          "name": "stdout",
          "text": [
            "enter the marks:  40\n",
            "grade: F, Burro\n"
          ]
        }
      ],
      "source": [
        "# WAP to assing grades according to the student's final mark, >=90:A, >=70:C, >=60:D, else F\n",
        "\n",
        "notas = int(input(\"enter the marks:  \"))\n",
        "if notas >= 90:\n",
        "    print(\"grade: A\")\n",
        "elif notas >= 70:\n",
        "    print(\"grade: B\")\n",
        "elif notas >= 60:\n",
        "    print(\"grade: C\")\n",
        "elif notas >= 50:\n",
        "    print(\"grade: D\")\n",
        "else:\n",
        "    print(\"grade: F, Burro\")\n",
        "\n",
        "\n"
      ]
    },
    {
      "cell_type": "markdown",
      "source": [
        "**Handing and Exception**"
      ],
      "metadata": {
        "id": "0HjRNFvtDgiy"
      }
    },
    {
      "cell_type": "code",
      "source": [
        "#WAP that takes two number as input and perform division. Handle the case where denomintor is zero.\n",
        "\n",
        "try:\n",
        "  num1 = int(input(\"enter the first number:  \"))\n",
        "  num2 = int(input(\"enter the second number:  \"))\n",
        "  result = num1/num2\n",
        "  print(\"result:  \",result)\n",
        "except ZeroDivisionError:\n",
        "  print(\"Error: Division by zero is not allowed\")\n",
        "except ValueError:\n",
        "  print(\"Error: Invalid input. Please enter valid numbers.\")\n",
        "except Exception as e:\n",
        "  print(\"An error occurred:  \",e)\n"
      ],
      "metadata": {
        "id": "Y8O2mY7ZDnt9"
      },
      "execution_count": null,
      "outputs": []
    },
    {
      "cell_type": "markdown",
      "source": [
        "# **MINI PROJECT** :  ATM SIMULATOR"
      ],
      "metadata": {
        "id": "Kviv8bGgMMjs"
      }
    },
    {
      "cell_type": "code",
      "source": [
        "import time\n",
        "\n",
        "#User Accounts detail with pin and balance amount.\n",
        "\n",
        "users = {\n",
        "    '1234': {'balance': 300000,'transactions':[]},\n",
        "    '6789': {'balance': 100000,'transactions':[]},\n",
        "    '3456': {'balance': 400000,'transactions':[]},\n",
        "}\n",
        "\n",
        "#Initialize bloker users\n",
        "blocked_users = set()\n",
        "\n",
        "#Function for auhenticarion of users\n",
        "def authentication():\n",
        "  attempts=3\n",
        "  while attempts > 0:\n",
        "    user_id = input(\"Enter your 4-digits pin: \")\n",
        "    if user_id in blocked_users:\n",
        "      print(\"Your account has been blocked. Please contact customer care.\")\n",
        "      return None\n",
        "    if user_id in users:\n",
        "      print('Authentication Successfull!!')\n",
        "      return user_id\n",
        "    else:\n",
        "      attempts -=1\n",
        "      print(f'Incorrect pin, Attemps left {attempts}')\n",
        "\n",
        "  print(f'\\nToo many attempts! Your card has been block.\\n')\n",
        "  blocked_users.add(user_id)\n",
        "  return None\n",
        "\n",
        "#Funcition to display the menu\n",
        "  def menu():\n",
        "    print('\\n ATM Menu:  \\n')\n",
        "    print('1. Check Balance')\n",
        "    print('2. Deposit')\n",
        "    print('3. Withdraw')\n",
        "    print('4. Transaction History')\n",
        "    print('5. Quit')\n",
        "\n",
        "#Function to check balance\n",
        "    def check_balance(user_pin):\n",
        "      print(f\"Your account balance is: {users[user_pin]['balance']}\")\n",
        "\n",
        "\n",
        "#Function to deposit Money\n",
        "def deposit_money(user_pin):\n",
        "  amount= float(input('Entrer the amount to deposit:  '))\n",
        "  if amount >0:\n",
        "    users[user_pin]['balance'] += amount\n",
        "    users[user_pin]['transactions'].append(f'Deposited amount: {amount}')\n",
        "    print(f'{amount} has been deposited successfully! ')\n",
        "  else:\n",
        "    print('Invalid amount. Try again!')\n",
        "\n",
        "#Funtion to withdraw money\n",
        "def withdraw_money(user_pin):\n",
        "  amount = float(input('Enter the withdraw amount: '))\n",
        "  if amount>0 and amount <= users[user_pin]['balance']:\n",
        "    users[user_pin]['balance'] -= amount\n",
        "    users[user_pin]['transactions'].append(f'Withdraw: {amount}')\n",
        "    print(f' {amount} withdrau successfully! ')\n",
        "  elif amount > users[user_pin]['balance']:\n",
        "    print('Insufficiente balance. Try again ')\n",
        "  else:\n",
        "    print('Invalid amount. Try Again!')\n",
        "\n",
        "#Function to show transaction details\n",
        "def transaction_history(user_pin):\n",
        "  print('\\n Transaction History: ')\n",
        "  if users[user_pin]['transactions']:\n",
        "    for i,transaction in enumerate(users[user_pin]['transactions'],1):\n",
        "      print(transaction)\n",
        "  else:\n",
        "    print('No transactions found.')\n",
        "  print()\n",
        "\n",
        "#Funtion to change pin\n",
        "def change_pin(user_pin):\n",
        "  new_pin = input('Enter your new pin: ')\n",
        "  if len(new_pin) == 4 and new_pin.isdigit() and new_pin not in users:\n",
        "    users[new_pin] = users.pop(user_pin)\n",
        "    print('Pin changed successfully!')\n",
        "  else:\n",
        "    print('Invalid pin or already exist. Try again.')\n",
        "    return user_pin\n",
        "\n",
        "#Main fuction to run the app\n",
        "def atm_simulator():\n",
        "  print('Welcome to the ATM Simulator')\n",
        "\n",
        "  user_pin = authentication()\n",
        "  if not user_pin:\n",
        "    return\n",
        "\n",
        "  while True:\n",
        "    menu()\n",
        "    choice = input('Enter your choice: ')\n",
        "\n",
        "    if choice == '1':\n",
        "      check_balance(user_pin)\n",
        "    elif choice == '2':\n",
        "      deposit_money(user_pin)\n",
        "    elif choice == '3':\n",
        "      withdraw_money(user_pin)\n",
        "    elif choice == '4':\n",
        "      transaction_history(user_pin)\n",
        "    elif choice == '5':\n",
        "      user_pin = change_pin(user_pin)\n",
        "    elif choice == '6':\n",
        "      print('Thank you for using the ATM. Goodbye!')\n",
        "      break\n",
        "    else:\n",
        "      print('Invalid choice. Try again.')\n",
        "  time.sleep(1)\n",
        "\n",
        "#Run the application\n",
        "\n",
        "atm_simulator()\n"
      ],
      "metadata": {
        "id": "5_JQEiihEPc2",
        "collapsed": true
      },
      "execution_count": null,
      "outputs": []
    },
    {
      "cell_type": "markdown",
      "source": [],
      "metadata": {
        "id": "AcEZu8nUrgE-"
      }
    },
    {
      "cell_type": "code",
      "source": [],
      "metadata": {
        "id": "0VhVny3orgvt"
      },
      "execution_count": null,
      "outputs": []
    },
    {
      "cell_type": "code",
      "source": [],
      "metadata": {
        "id": "WIog3WMXPmrT"
      },
      "execution_count": null,
      "outputs": []
    },
    {
      "cell_type": "markdown",
      "source": [
        "ATM Project : (Version de la profesora)"
      ],
      "metadata": {
        "id": "RIKXFSe8d9ST"
      }
    },
    {
      "cell_type": "code",
      "source": [
        "import time\n",
        "\n",
        "#Users Accounts details with pin and balance amount\n",
        "\n",
        "users = {\n",
        "\n",
        "    '1234': {'balance': 300000, 'transactions':[]},\n",
        "\n",
        "    '6789': {'balance': 100000, 'transactions': []},\n",
        "\n",
        "    '3456': {'balance': 400000, 'transactions': []}\n",
        "\n",
        "}\n",
        "\n",
        "#Initialize blocker users\n",
        "\n",
        "blocked_users = set()\n",
        "\n",
        "#Functions for authentication of users\n",
        "\n",
        "def authentication():\n",
        "\n",
        "  attempts=3\n",
        "\n",
        "  while attempts >0:\n",
        "\n",
        "    pin = input('Enter the 4-digit pin: ')\n",
        "\n",
        "    if pin in blocked_users:\n",
        "\n",
        "      print('Your card is blocked. Contact your bank for more details!')\n",
        "\n",
        "      return None\n",
        "\n",
        "    if pin in users:\n",
        "\n",
        "      print('Aunthetication Successful!!')\n",
        "\n",
        "      return pin\n",
        "\n",
        "    else:\n",
        "\n",
        "      attempts -= 1\n",
        "\n",
        "      print(f'Incorrect Pin. Attempts left {attempts}\\n')\n",
        "\n",
        "\n",
        "  print(f'\\nToo many attempts! Your card has been blocked.\\n')\n",
        "\n",
        "  blocked_users.add(pin)\n",
        "\n",
        "  return None\n",
        "\n",
        "\n",
        "#Function to display the menu\n",
        "\n",
        "def menu():\n",
        "\n",
        "  print('\\nATM Menu: \\n')\n",
        "\n",
        "  print('Check Balance')\n",
        "\n",
        "  print('Deposit Money')\n",
        "\n",
        "  print('Withdraw Money')\n",
        "\n",
        "  print('Transaction History')\n",
        "\n",
        "  print('Change Pin')\n",
        "\n",
        "  print('Exit')\n",
        "\n",
        "\n",
        "#Functions to check balance\n",
        "\n",
        "def check_balance(user_pin):\n",
        "\n",
        "  print(f\"\\n Your account balance is {users[user_pin]['balance']}\\n\")\n",
        "\n",
        "\n",
        "#Function to deposit Money\n",
        "\n",
        "def deposit_money(user_pin):\n",
        "\n",
        "  amount= float(input('Enter the amount to deposit: '))\n",
        "\n",
        "  if amount >0:\n",
        "\n",
        "    users[user_pin]['balance'] += amount\n",
        "\n",
        "    users[user_pin]['transactions'].append(f'Deposited Amount: {amount}')\n",
        "\n",
        "    print(f' {amount} has been deposited successfully!')\n",
        "\n",
        "  else:\n",
        "\n",
        "    print('Invalid amount. Try again!')\n",
        "\n",
        "#Function to withdraw money\n",
        "\n",
        "def withdraw_money(user_pin):\n",
        "\n",
        "  amount= float(input('Enter the withdrwal amount: '))\n",
        "\n",
        "  if amount>0 and  amount <= users[user_pin]['balance']:\n",
        "\n",
        "    users[user_pin]['balance'] -= amount\n",
        "\n",
        "    users[user_pin]['transactions'].append(f'Withdrawn: {amount}')\n",
        "\n",
        "    print(f'{amount} withdrawn successfully!')\n",
        "\n",
        "  elif amount > users[user_pin]['balance']:\n",
        "\n",
        "    print('Insufficient balancs. Try again!')\n",
        "\n",
        "  else:\n",
        "\n",
        "    print('Invalid amount. Tray again!')\n",
        "\n",
        "\n",
        "#Functions to show transaction details\n",
        "\n",
        "def transaction_history(user_pin):\n",
        "\n",
        "  print('\\nTransaction History: ')\n",
        "\n",
        "  if users[user_pin]['transactions']:\n",
        "\n",
        "    for i, transaction in enumerate(users[user_pin]['transactions'], 1):\n",
        "\n",
        "      print(f'{i}. {transaction}')\n",
        "\n",
        "  else:\n",
        "\n",
        "    print('No Transaction found!')\n",
        "\n",
        "  print()\n",
        "\n",
        "\n",
        "#Funstion to change pin\n",
        "\n",
        "def change_pin(user_pin):\n",
        "\n",
        "  new_pin = input('\\n Enter the new pin: ')\n",
        "\n",
        "  if new_pin.isdigit() and len(new_pin) == 4 and new_pin not in users:\n",
        "\n",
        "    users[new_pin] = users.pop(user_pin)\n",
        "\n",
        "    print('Pin Changed Successfully!')\n",
        "\n",
        "  else:\n",
        "\n",
        "    print('Invalid or already exists. Try again!')\n",
        "\n",
        "    return user_pin\n",
        "\n",
        "#Main function to run the app\n",
        "\n",
        "def atm_simulator():\n",
        "\n",
        "  print('Welcome to the ATM Simulator!')\n",
        "\n",
        "  user_pin = authentication()\n",
        "\n",
        "  if not user_pin:\n",
        "\n",
        "    return\n",
        "\n",
        "\n",
        "  while True:\n",
        "\n",
        "    menu()\n",
        "\n",
        "    choice = input('\\n Enter your choice: ')\n",
        "\n",
        "\n",
        "    if choice == '1':\n",
        "\n",
        "      check_balance(user_pin)\n",
        "\n",
        "    elif choice == '2':\n",
        "\n",
        "      deposit_money(user_pin)\n",
        "\n",
        "    elif choice == '3':\n",
        "\n",
        "      withdraw_money(user_pin)\n",
        "\n",
        "    elif choice =='4':\n",
        "\n",
        "      transaction_history(user_pin)\n",
        "\n",
        "    elif choice == '5':\n",
        "\n",
        "      user_pin = change_pin(user_pin)\n",
        "\n",
        "    elif choice == '6':\n",
        "\n",
        "      print('Thankyou for using our ATM!')\n",
        "\n",
        "      break\n",
        "\n",
        "    else:\n",
        "\n",
        "      print('Invalid choice, please select a valid option.')\n",
        "\n",
        "    time.sleep(1)\n",
        "\n",
        "\n",
        "#Run the application\n",
        "\n",
        "atm_simulator()\n",
        "\n"
      ],
      "metadata": {
        "id": "IVnwxtz9eCcC"
      },
      "execution_count": null,
      "outputs": []
    },
    {
      "cell_type": "markdown",
      "source": [
        "## QUESTIONARE:"
      ],
      "metadata": {
        "id": "jdkCy7fHriO3"
      }
    },
    {
      "cell_type": "code",
      "source": [
        "# 1. Check if a number is even or odd\n",
        "def check_even_odd():\n",
        "    num = int(input(\"Enter a number: \"))\n",
        "    print(\"Even\" if num % 2 == 0 else \"Odd\")\n",
        "\n",
        "check_even_odd()\n"
      ],
      "metadata": {
        "colab": {
          "base_uri": "https://localhost:8080/"
        },
        "id": "1e1rEc3VvUq3",
        "outputId": "f413bcdd-0787-4943-ad30-a00dfbedc4f8"
      },
      "execution_count": 6,
      "outputs": [
        {
          "output_type": "stream",
          "name": "stdout",
          "text": [
            "Enter a number: 5\n",
            "Odd\n"
          ]
        }
      ]
    },
    {
      "cell_type": "code",
      "source": [
        "# 2. Find the largest among three numbers\n",
        "def find_largest():\n",
        "    nums = [int(input(f\"Enter number {i+1}: \")) for i in range(3)]\n",
        "    print(f\"Largest number: {max(nums)}\")"
      ],
      "metadata": {
        "id": "BH2FaG6MvZTb"
      },
      "execution_count": null,
      "outputs": []
    },
    {
      "cell_type": "code",
      "source": [
        "# 3. Leap year checker    , LEAP YEAR = year with 366 en lugar de los 365 que normlamente tiene un año.\n",
        "def check_leap_year():\n",
        "    year = int(input(\"Enter a year: \"))\n",
        "    if (year % 4 == 0 and year % 100 != 0) or (year % 400 == 0):  #se calcula con % para que el residuo sea cero, cada año que puede ser dibisible por 400.\n",
        "        print(f\"{year} is a leap year.\")\n",
        "    else:\n",
        "        print(f\"{year} is not a leap year.\")\n",
        "\n",
        "check_leap_year()"
      ],
      "metadata": {
        "colab": {
          "base_uri": "https://localhost:8080/"
        },
        "id": "GTrmn0mTdOk9",
        "outputId": "b05f6489-9a43-4679-f281-1fed4eacb0eb"
      },
      "execution_count": 3,
      "outputs": [
        {
          "output_type": "stream",
          "name": "stdout",
          "text": [
            "Enter a year: 2024\n",
            "2024 is a leap year.\n"
          ]
        }
      ]
    },
    {
      "cell_type": "code",
      "source": [
        "# 4. Voting eligibility check\n",
        "age = int(input(\"Enter your age: \"))\n",
        "if age >= 18:\n",
        "  print(\"Eligible to vote\")\n",
        "else:\n",
        "  print(\"Not eligible to vote\")\n"
      ],
      "metadata": {
        "colab": {
          "base_uri": "https://localhost:8080/"
        },
        "id": "KAUbUr9vd5dB",
        "outputId": "2ffbad72-8a5a-45fa-c92e-4cbe2c3cb439"
      },
      "execution_count": 7,
      "outputs": [
        {
          "output_type": "stream",
          "name": "stdout",
          "text": [
            "Enter your age: 18\n",
            "Eligible to vote\n"
          ]
        }
      ]
    },
    {
      "cell_type": "code",
      "source": [
        "# 5. Temperature categorizer\n",
        "\n",
        "temp = float(input(\"Enter temperature in Celsius: \"))\n",
        "if temp < 17:\n",
        " print(\"Cold\")\n",
        "elif 17 <= temp <= 28:\n",
        " print(\"Moderate\")\n",
        "else:\n",
        "  print(\"Hot\")"
      ],
      "metadata": {
        "colab": {
          "base_uri": "https://localhost:8080/"
        },
        "id": "XnUB900TegaJ",
        "outputId": "5aedaaaf-6df8-42d2-b2b2-ccc2856467be"
      },
      "execution_count": 8,
      "outputs": [
        {
          "output_type": "stream",
          "name": "stdout",
          "text": [
            "Enter temperature in Celsius: 37\n",
            "Hot\n"
          ]
        }
      ]
    },
    {
      "cell_type": "code",
      "source": [
        "# 6. Print even numbers from 1 to 50\n",
        "\n",
        "\n",
        "for i in range(2, 51, 2):\n",
        "    print(f\" {i} \",end=\"\")"
      ],
      "metadata": {
        "colab": {
          "base_uri": "https://localhost:8080/"
        },
        "id": "7lT67Vqge7H1",
        "outputId": "e32b1cc5-892e-4b12-864b-c446fa8d00b6"
      },
      "execution_count": 14,
      "outputs": [
        {
          "output_type": "stream",
          "name": "stdout",
          "text": [
            " 2  4  6  8  10  12  14  16  18  20  22  24  26  28  30  32  34  36  38  40  42  44  46  48  50 "
          ]
        }
      ]
    },
    {
      "cell_type": "code",
      "source": [
        "# 7. Multiplication table\n",
        "\n",
        "num = int(input(\"Enter a number: \"))\n",
        "for i in range(1, 11):\n",
        "  print(f\"{num} x {i} = {num * i}\")"
      ],
      "metadata": {
        "colab": {
          "base_uri": "https://localhost:8080/"
        },
        "id": "x6kjpe9afwty",
        "outputId": "27b81303-f391-4ddb-a6c2-07098197da23"
      },
      "execution_count": 36,
      "outputs": [
        {
          "output_type": "stream",
          "name": "stdout",
          "text": [
            "Enter a number: 5\n",
            "5 x 1 = 5\n",
            "5 x 2 = 10\n",
            "5 x 3 = 15\n",
            "5 x 4 = 20\n",
            "5 x 5 = 25\n",
            "5 x 6 = 30\n",
            "5 x 7 = 35\n",
            "5 x 8 = 40\n",
            "5 x 9 = 45\n",
            "5 x 10 = 50\n"
          ]
        }
      ]
    },
    {
      "cell_type": "code",
      "source": [
        "# 8. Sum from 1 to N\n",
        "\n",
        "n = int(input(\"Enter a number: \"))\n",
        "print(f\"Sum: {sum(range(1, n + 1))}\")\n",
        "\n",
        "total_sum = 0\n",
        "for num in range(1, n + 1):\n",
        "  total_sum += num\n",
        "  print(f\"  {total_sum}\",end=\" \")\n",
        "print(f\"\\n The sum from 1 to {n} is: {total_sum}\")"
      ],
      "metadata": {
        "colab": {
          "base_uri": "https://localhost:8080/"
        },
        "id": "w9sEj-ikspkh",
        "outputId": "825f4cdb-06b6-46ce-b3c6-f948760a649f"
      },
      "execution_count": 46,
      "outputs": [
        {
          "output_type": "stream",
          "name": "stdout",
          "text": [
            "Enter a number: 15\n",
            "Sum: 120\n",
            "  1   3   6   10   15   21   28   36   45   55   66   78   91   105   120 \n",
            " The sum from 1 to 15 is: 120\n"
          ]
        }
      ]
    },
    {
      "cell_type": "code",
      "source": [
        "# 9. Sum until -1 is entered\n",
        "\n",
        "total = 0\n",
        "\n",
        "while True:\n",
        " num = int(input(\"Enter a number (-1 to stop): \"))\n",
        " if num == -1:\n",
        "  break\n",
        " total += num\n",
        "print(f\"Total sum: {total}\")"
      ],
      "metadata": {
        "id": "kELrqnjSuk1G"
      },
      "execution_count": null,
      "outputs": []
    },
    {
      "cell_type": "code",
      "source": [
        "# 10. Fibonacci series\n",
        "\n",
        "n = int(input(\"Enter the number to calculate the Fibonacci Series: \"))\n",
        "a, b = 0, 1\n",
        "for _ in range(n):\n",
        "  print(a, end=\" \")\n",
        "  a, b = b, a + b\n",
        "  print()"
      ],
      "metadata": {
        "id": "p0oRQHFVvyiW"
      },
      "execution_count": null,
      "outputs": []
    },
    {
      "cell_type": "code",
      "source": [
        "# 11. Login system\n",
        "def login_system():\n",
        "    correct_password = \"password123\"\n",
        "    for attempt in range(3):\n",
        "        password = input(\"Enter password: \")\n",
        "        if password == correct_password:\n",
        "            print(\"Access Granted\")\n",
        "            return\n",
        "        else:\n",
        "            print(f\"You have left  {2-attempt} attemp\")\n",
        "    print(\"Access Denied\")\n",
        "\n",
        "\n",
        "login_system()"
      ],
      "metadata": {
        "id": "mMke9uaKwPDP"
      },
      "execution_count": null,
      "outputs": []
    },
    {
      "cell_type": "code",
      "source": [
        "# 12. Prime numbers between 1 and 100\n",
        "\n",
        "for num in range(2, 101):\n",
        "  is_prime = True\n",
        "  for i in range(2, num):\n",
        "    if num % i == 0:\n",
        "      is_prime = False\n",
        "      break\n",
        "  if is_prime:\n",
        "    print(num, end=\" \")\n",
        "\n",
        ""
      ],
      "metadata": {
        "colab": {
          "base_uri": "https://localhost:8080/"
        },
        "id": "aGX-HUIaxzDg",
        "outputId": "b345082a-322f-4f47-920a-04b1873bd25c"
      },
      "execution_count": 64,
      "outputs": [
        {
          "output_type": "stream",
          "name": "stdout",
          "text": [
            "2 3 5 7 11 13 17 19 23 29 31 37 41 43 47 53 59 61 67 71 73 79 83 89 97 "
          ]
        }
      ]
    },
    {
      "cell_type": "code",
      "source": [
        "# 13. Count digits in a number\n",
        "\n",
        "num = input(\"Enter a number: \")\n",
        "print(f\"Number of digits: {len(num)}\")\n"
      ],
      "metadata": {
        "colab": {
          "base_uri": "https://localhost:8080/"
        },
        "id": "wP1sQWXm9W8z",
        "outputId": "43fbda59-067d-4e2a-8ac9-951757d1fe4e"
      },
      "execution_count": 65,
      "outputs": [
        {
          "output_type": "stream",
          "name": "stdout",
          "text": [
            "Enter a number: 45654\n",
            "Number of digits: 5\n"
          ]
        }
      ]
    },
    {
      "cell_type": "code",
      "source": [
        "# 14. Error handling for non-numeric input\n",
        "try:\n",
        " num = int(input(\"Enter a number [Cant be non-numeric]:  \"))\n",
        " print(f\"You entered: {num}\")\n",
        "except ValueError:\n",
        " print(\"Invalid input! Please enter a numeric value.\")"
      ],
      "metadata": {
        "colab": {
          "base_uri": "https://localhost:8080/"
        },
        "id": "LsdjPSl9HOC0",
        "outputId": "aa131211-3735-48d4-91b6-ba433c683f8b"
      },
      "execution_count": 68,
      "outputs": [
        {
          "output_type": "stream",
          "name": "stdout",
          "text": [
            "Enter a number [Cant be non-numeric]:  f\n",
            "Invalid input! Please enter a numeric value.\n"
          ]
        }
      ]
    },
    {
      "cell_type": "code",
      "source": [
        "# 15. Division program with ZeroDivisionError handling\n",
        "\n",
        "try:\n",
        " a = int(input(\"Enter numerator: \"))\n",
        " b = int(input(\"Enter denominator: \"))\n",
        " print(f\"Result: {a / b}\")\n",
        "except ZeroDivisionError:\n",
        "  print(\"Error: Division by zero is not allowed.\")\n",
        "except ValueError:\n",
        "  print(\"Invalid input! Please enter numeric values.\")"
      ],
      "metadata": {
        "colab": {
          "base_uri": "https://localhost:8080/"
        },
        "id": "QANiTpnuHoLk",
        "outputId": "86c6c83f-60b2-4ba5-d151-05b13bef95ba"
      },
      "execution_count": 73,
      "outputs": [
        {
          "output_type": "stream",
          "name": "stdout",
          "text": [
            "Enter numerator: 4\n",
            "Enter denominator: g\n",
            "Invalid input! Please enter numeric values.\n"
          ]
        }
      ]
    },
    {
      "cell_type": "code",
      "source": [
        "# 16. FizzBuzz (Print numbers from 1 to 50 with conditions)\n",
        "# Print \"Fizz\" for multiples of 3, \"Buzz\" for multiples of 5, and \"FizzBuzz\" for multiples of both 3 and 5.\n",
        "\n",
        "for num in range(1, 51):\n",
        "  if num % 3 == 0 and num % 5 == 0:\n",
        "    print(f\"{num} FizzBuzz\")\n",
        "  elif num % 3 == 0:\n",
        "    print(f\"{num} Fizz\")\n",
        "  elif num % 5 == 0:\n",
        "    print(f\"{num} Buzz\")\n",
        "  else:\n",
        "    print(num)\n",
        "\n"
      ],
      "metadata": {
        "colab": {
          "base_uri": "https://localhost:8080/"
        },
        "id": "oLDNzj-k51gZ",
        "outputId": "5af11b5d-efc8-40e6-c4ea-6325fcc51582"
      },
      "execution_count": 69,
      "outputs": [
        {
          "output_type": "stream",
          "name": "stdout",
          "text": [
            "1\n",
            "2\n",
            "3 Fizz\n",
            "4\n",
            "5 Buzz\n",
            "6 Fizz\n",
            "7\n",
            "8\n",
            "9 Fizz\n",
            "10 Buzz\n",
            "11\n",
            "12 Fizz\n",
            "13\n",
            "14\n",
            "15 FizzBuzz\n",
            "16\n",
            "17\n",
            "18 Fizz\n",
            "19\n",
            "20 Buzz\n",
            "21 Fizz\n",
            "22\n",
            "23\n",
            "24 Fizz\n",
            "25 Buzz\n",
            "26\n",
            "27 Fizz\n",
            "28\n",
            "29\n",
            "30 FizzBuzz\n",
            "31\n",
            "32\n",
            "33 Fizz\n",
            "34\n",
            "35 Buzz\n",
            "36 Fizz\n",
            "37\n",
            "38\n",
            "39 Fizz\n",
            "40 Buzz\n",
            "41\n",
            "42 Fizz\n",
            "43\n",
            "44\n",
            "45 FizzBuzz\n",
            "46\n",
            "47\n",
            "48 Fizz\n",
            "49\n",
            "50 Buzz\n"
          ]
        }
      ]
    },
    {
      "cell_type": "markdown",
      "source": [],
      "metadata": {
        "id": "HDMMJ8_c51Ce"
      }
    }
  ]
}